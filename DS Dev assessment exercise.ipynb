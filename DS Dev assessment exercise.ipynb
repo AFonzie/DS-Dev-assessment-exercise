{
 "cells": [
  {
   "cell_type": "code",
   "execution_count": 19,
   "id": "33054126",
   "metadata": {},
   "outputs": [
    {
     "name": "stdout",
     "output_type": "stream",
     "text": [
      "Requirement already satisfied: opencv-python in c:\\users\\user\\appdata\\local\\programs\\python\\python38\\lib\\site-packages (4.4.0.42)\n",
      "Requirement already satisfied: numpy>=1.17.3 in c:\\users\\user\\appdata\\local\\programs\\python\\python38\\lib\\site-packages (from opencv-python) (1.18.5)\n",
      "Note: you may need to restart the kernel to use updated packages.\n"
     ]
    },
    {
     "name": "stderr",
     "output_type": "stream",
     "text": [
      "WARNING: You are using pip version 21.2.4; however, version 21.3.1 is available.\n",
      "You should consider upgrading via the 'C:\\Users\\User\\AppData\\Local\\Programs\\Python\\Python38\\python.exe -m pip install --upgrade pip' command.\n"
     ]
    }
   ],
   "source": [
    "pip install opencv-python"
   ]
  },
  {
   "cell_type": "markdown",
   "id": "b756bcd8",
   "metadata": {},
   "source": [
    "# Import Libraries"
   ]
  },
  {
   "cell_type": "code",
   "execution_count": 20,
   "id": "cd58c095",
   "metadata": {},
   "outputs": [],
   "source": [
    "import json\n",
    "import os.path\n",
    "import pandas as pd\n",
    "import tensorflow as tf\n",
    "import cv2\n",
    "from matplotlib import pyplot as plt\n",
    "from PIL import Image"
   ]
  },
  {
   "cell_type": "markdown",
   "id": "9ce3e0da",
   "metadata": {},
   "source": [
    "# 1.Processing  metadata file with image metadata"
   ]
  },
  {
   "cell_type": "code",
   "execution_count": 53,
   "id": "f7e9c19b",
   "metadata": {},
   "outputs": [
    {
     "data": {
      "image/png": "[encoded data removed]",
      "text/plain": [
       "<Figure size 576x396 with 1 Axes>"
      ]
     },
     "metadata": {},
     "output_type": "display_data"
    }
   ],
   "source": [
    "label_type = 'Raccoon'\n",
    "file_prefix = \"input_images_source_\"\n",
    "path_to_output = './data_output.json'\n",
    "files = os.listdir('.')\n",
    "list_of_json = []\n",
    "list_of_dicts =[]\n",
    "list_of_filenames = []\n",
    "list_width_to_height_ratio = []\n",
    "\n",
    "\n",
    "#Checks if output file exists and if it does deletes it\n",
    "if os.path.isfile(path_to_output):\n",
    "    os.remove(path_to_output)\n",
    "else:\n",
    "    pass\n",
    "\n",
    "\n",
    "#Creates a list with  the content of all  image metadata JSON files\n",
    "for file in files:\n",
    "    if file_prefix in file:\n",
    "        jpath = './'+ file\n",
    "        data_file = os.listdir(jpath)\n",
    "        for item in data_file:\n",
    "            if item.endswith('.json'):\n",
    "                json_file = open(jpath + \"/\" + item)\n",
    "                data = json.load(json_file)\n",
    "                list_of_json.append(data)\n",
    "\n",
    "#Loops through all Json files in the list and calculates the labels's width to height ration and label area percentage.\n",
    "# Also extracts the rest of the data for the Output JSON\n",
    "for item in list_of_json:\n",
    "    for image in item['data']:\n",
    "        if 'filename' in image.keys() and image['filename'].endswith('jpg') == False:\n",
    "            image['filename'] = image['filename'] + '.jpg'\n",
    "        if 'path' not in image.keys():\n",
    "            path_to_image = image['folder'] +image['filename']\n",
    "            filename = image['filename']\n",
    "        else:\n",
    "            path_to_image = image['path']\n",
    "            filename = path_to_image.split('/')[-1]\n",
    "        im_data = Image.open(path_to_image)\n",
    "        if filename.endswith('.jpg') == False:\n",
    "            pth_lst = path_to_image.split(\".\")\n",
    "            pth_lst[-1] = '.jpg'\n",
    "            pth = \"\".join(pth_lst)\n",
    "            path_to_image = pth\n",
    "            im_data.save(pth)\n",
    "            filename = filename.replace(filename.split('.')[-1],'jpg')\n",
    "        image_width, image_height = im_data.size\n",
    "        image_area = image_width * image_height\n",
    "        if 'label_width' not in image.keys() and 'label_height' not in image.keys():\n",
    "            if  image['xmax'] > 1:\n",
    "                image['xmax'] = image['xmax'] / image_width\n",
    "                image['xmin'] =image['xmin'] / image_width\n",
    "                image['ymax'] =image['ymax'] / image_height\n",
    "                image['ymin'] =image['ymin'] / image_height\n",
    "                xmax,xmin,ymax,ymin = image['xmax'],image['xmin'],image['ymax'],image['ymin']\n",
    "            else:\n",
    "                xmax, xmin, ymax, ymin = image['xmax'], image['xmin'], image['ymax'], image['ymin']\n",
    "            label_width = (xmax - xmin) * image_width\n",
    "            label_height = (ymax - ymin) * image_height\n",
    "        else:\n",
    "            label_width = image['label_width']\n",
    "            label_height =image ['label_height']\n",
    "        label_area = label_height * label_width\n",
    "        width_to_height =round(label_width / label_height,3)\n",
    "        label_area_perc = round(label_area / image_area,1)\n",
    "        if 'xmax' in image.keys():\n",
    "            xmax, xmin, ymax, ymin = image['xmax'], image['xmin'], image['ymax'], image['ymin']\n",
    "        else:\n",
    "            xmax = (image['label_horz_center'] + (label_width/2))/image_width\n",
    "            xmin = (image['label_horz_center'] - (label_width / 2))/image_width\n",
    "            ymax = (image['label_vert_center'] + (label_height / 2))/image_height\n",
    "            ymin = (image['label_vert_center']  - (label_height / 2))/image_height\n",
    "        list_of_filenames.append(filename)\n",
    "        list_width_to_height_ratio.append(width_to_height)\n",
    "        dictionary = {\n",
    " \"path\": path_to_image,\n",
    " \"filename\": filename,\n",
    " \"image_height\": image_height,\n",
    " \"image_width\": image_width,\n",
    " \"label_area_perc\": label_area_perc,\n",
    " \"labels\": [\n",
    " {\n",
    " \"xmin\": round(xmin,1),\n",
    " \"ymin\": round(ymin,1),\n",
    " \"xmax\": round(xmax,2),\n",
    " \"ymax\": round(ymax,2),\n",
    " \"label\": label_type,\n",
    " \"width_to_height\": width_to_height\n",
    " }]}\n",
    "        list_of_dicts.append(dictionary)\n",
    "plt.xticks(rotation =60)\n",
    "plt.xlabel('Filename')\n",
    "plt.ylabel('Width to Height Ratio')\n",
    "plt.style.use('seaborn')\n",
    "plt.scatter(list_of_filenames,list_width_to_height_ratio)\n",
    "\n",
    "output = {'data': list_of_dicts}\n",
    "output_json = json.dumps(output,indent=4)\n",
    "\n",
    "with open ('data_output.json','w') as outfile:\n",
    "    outfile.write(output_json)\n",
    "\n"
   ]
  },
  {
   "cell_type": "markdown",
   "id": "f85a1bec",
   "metadata": {},
   "source": [
    "# 2.  Processes images"
   ]
  },
  {
   "cell_type": "code",
   "execution_count": 55,
   "id": "a2787f4a",
   "metadata": {},
   "outputs": [],
   "source": [
    "config = open('./config.json')\n",
    "config = json.load(config)\n",
    "\n",
    "img_data = open ('./data_output.json')\n",
    "img_data = json.load(img_data)\n",
    "\n"
   ]
  },
  {
   "cell_type": "code",
   "execution_count": 59,
   "id": "33535fd8",
   "metadata": {},
   "outputs": [],
   "source": [
    "for image in img_data['data']:\n",
    "    img_labels = image['labels'][0]\n",
    "    img = cv2.imread(image['path'])\n",
    "    img = cv2.resize(img,(config['max_width'],config['max_height']))\n",
    "    cv2.rectangle(img,(int(img_labels['xmin']*config['max_width']),int(img_labels['ymin']*config['max_height'])),(int(img_labels['xmax']*config['max_width']),int(img_labels['ymax']*config['max_height'])),(0,0,255),5)\n",
    "    cv2.putText(img,label_type,((int(img_labels['xmin']*config['max_width']) +30),int(img_labels['ymin']*config['max_height'])+30),cv2.FONT_HERSHEY_SIMPLEX,1,(0,255,0),2)\n",
    "    img = img[int(img_labels['ymin']*config['max_height']):int(img_labels['ymax']*config['max_height']),int(img_labels['xmin']*config['max_width']):int(img_labels['xmax']*config['max_width'])]\n",
    "    cv2.imshow(image['filename'],img)\n",
    "    cv2.waitKey(0)\n",
    "    \n",
    "    #cv2.rectangle(img,(int(img_labels['xmin']*config['max_width']),int(img_labels['ymin']*config['max_height'])),(int(img_labels['xmax']*config['max_width']),int(img_labels['ymax']*config['max_height'])),(0,0,255),5)"
   ]
  },
  {
   "cell_type": "code",
   "execution_count": null,
   "id": "cbcd8dcb",
   "metadata": {},
   "outputs": [],
   "source": []
  },
  {
   "cell_type": "code",
   "execution_count": null,
   "id": "9b2ec1e0",
   "metadata": {},
   "outputs": [],
   "source": []
  }
 ],
 "metadata": {
  "kernelspec": {
   "display_name": "Python 3 (ipykernel)",
   "language": "python",
   "name": "python3"
  },
  "language_info": {
   "codemirror_mode": {
    "name": "ipython",
    "version": 3
   },
   "file_extension": ".py",
   "mimetype": "text/x-python",
   "name": "python",
   "nbconvert_exporter": "python",
   "pygments_lexer": "ipython3",
   "version": "3.8.5"
  }
 },
 "nbformat": 4,
 "nbformat_minor": 5
}
