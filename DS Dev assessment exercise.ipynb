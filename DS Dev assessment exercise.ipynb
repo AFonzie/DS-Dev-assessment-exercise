{
 "cells": [
  {
   "cell_type": "code",
   "execution_count": 6,
   "id": "33054126",
   "metadata": {},
   "outputs": [
    {
     "name": "stdout",
     "output_type": "stream",
     "text": [
      "Requirement already satisfied: opencv-python in c:\\users\\user\\appdata\\local\\programs\\python\\python38\\lib\\site-packages (4.4.0.42)\n",
      "Requirement already satisfied: numpy>=1.17.3 in c:\\users\\user\\appdata\\local\\programs\\python\\python38\\lib\\site-packages (from opencv-python) (1.18.5)\n",
      "Note: you may need to restart the kernel to use updated packages.\n"
     ]
    },
    {
     "name": "stderr",
     "output_type": "stream",
     "text": [
      "WARNING: You are using pip version 21.2.4; however, version 21.3.1 is available.\n",
      "You should consider upgrading via the 'C:\\Users\\User\\AppData\\Local\\Programs\\Python\\Python38\\python.exe -m pip install --upgrade pip' command.\n"
     ]
    }
   ],
   "source": [
    "pip install opencv-python"
   ]
  },
  {
   "cell_type": "markdown",
   "id": "b756bcd8",
   "metadata": {},
   "source": [
    "# 1. Import Libraries"
   ]
  },
  {
   "cell_type": "code",
   "execution_count": 7,
   "id": "cd58c095",
   "metadata": {},
   "outputs": [],
   "source": [
    "import json\n",
    "import logging\n",
    "import os.path\n",
    "import time\n",
    "import numpy as np\n",
    "import pandas as pd\n",
    "import cv2\n",
    "import shutil\n",
    "from matplotlib import pyplot as plt\n",
    "from PIL import Image"
   ]
  },
  {
   "cell_type": "markdown",
   "id": "9ce3e0da",
   "metadata": {},
   "source": [
    "# 2.Processing  metadata file with image metadata"
   ]
  },
  {
   "cell_type": "code",
   "execution_count": 8,
   "id": "0fb7f1af",
   "metadata": {},
   "outputs": [],
   "source": [
    "start_time = time.time()\n",
    "\n",
    "LOG_FORMAT = \"%(levelname)s %(asctime)s - %(message)s\"\n",
    "logging.basicConfig(filename='./processing.log',\n",
    "                    level = logging.DEBUG, \n",
    "                    format = LOG_FORMAT)\n",
    "logger = logging.getLogger()\n",
    "logging.getLogger('matplotlib.font_manager').disabled = True\n",
    "\n"
   ]
  },
  {
   "cell_type": "code",
   "execution_count": 9,
   "id": "184f0191",
   "metadata": {},
   "outputs": [],
   "source": [
    "try:\n",
    "    config = open('./config.json')\n",
    "    config = json.load(config)\n",
    "    out_file = config['output_file']\n",
    "    out_folder =config['output_folder']\n",
    "    file_prefix = \"input_images_source_\"\n",
    "    path_to_output = f'./{out_file}'\n",
    "    files = os.listdir('.')\n",
    "except FileNotFound:\n",
    "    logger.error(\"Config file not found\")\n",
    "    raise\n",
    "    \n",
    "list_of_json = []\n",
    "list_of_dicts =[]\n",
    "list_of_filenames = []\n",
    "list_width_to_height_ratio = []\n",
    "\n",
    "\n",
    "out_path = f\"./{out_folder}\"\n",
    "\n",
    "#Checks if output json file exists and if it does deletes it\n",
    "if os.path.exists(path_to_output):\n",
    "    os.remove(path_to_output)#deletes JSON\n",
    "if os.path.exists(out_path):\n",
    "    shutil.rmtree(out_path)# deletes output file\n",
    "\n",
    "os.mkdir(out_path)"
   ]
  },
  {
   "cell_type": "code",
   "execution_count": 10,
   "id": "f7e9c19b",
   "metadata": {},
   "outputs": [
    {
     "data": {
      "image/png": "[encoded data removed]",
      "text/plain": [
       "<Figure size 432x288 with 1 Axes>"
      ]
     },
     "metadata": {
      "needs_background": "light"
     },
     "output_type": "display_data"
    }
   ],
   "source": [
    "logger.info(\"Processing metadata file with image data.\")\n",
    "\n",
    "#Creates a list with  the content of all  image metadata JSON files\n",
    "try:\n",
    "    for file in files:\n",
    "        if file_prefix in file:\n",
    "            jpath = './'+ file\n",
    "            data_file = os.listdir(jpath)\n",
    "            for item in data_file:\n",
    "                if item.endswith('.json'):\n",
    "                    json_file = open(jpath + \"/\" + item)\n",
    "                    data = json.load(json_file)\n",
    "                    list_of_json.append(data)\n",
    "except FileNotFound:\n",
    "    logger.error(\"Image files not found\")\n",
    "    raise\n",
    "\n",
    "#Loops through all Json files in the list and calculates the labels's width to height ration and label area percentage.\n",
    "# Also extracts the rest of the data for the Output JSON\n",
    "try:\n",
    "    for item in list_of_json:\n",
    "        for image in item['data']:\n",
    "            if 'filename' in image.keys() and image['filename'].endswith('jpg') == False:\n",
    "                image['filename'] = image['filename'] + '.jpg'\n",
    "            if 'path' not in image.keys():\n",
    "                path_to_image = image['folder'] +image['filename']\n",
    "                filename = image['filename']\n",
    "            else:\n",
    "                path_to_image = image['path']\n",
    "                filename = path_to_image.split('/')[-1]\n",
    "            im_data = Image.open(path_to_image)\n",
    "            if filename.endswith('.jpg') == False:\n",
    "                pth_lst = path_to_image.split(\".\")\n",
    "                pth_lst[-1] = '.jpg'\n",
    "                pth = \"\".join(pth_lst)\n",
    "                path_to_image = pth\n",
    "                im_data.save(pth)\n",
    "                filename = filename.replace(filename.split('.')[-1],'jpg')\n",
    "            image_width, image_height = im_data.size\n",
    "            image_area = image_width * image_height\n",
    "            if 'label_width' not in image.keys() and 'label_height' not in image.keys():\n",
    "                if  image['xmax'] > 1:\n",
    "                    image['xmax'] = image['xmax'] / image_width\n",
    "                    image['xmin'] =image['xmin'] / image_width\n",
    "                    image['ymax'] =image['ymax'] / image_height\n",
    "                    image['ymin'] =image['ymin'] / image_height\n",
    "                    xmax,xmin,ymax,ymin = image['xmax'],image['xmin'],image['ymax'],image['ymin']\n",
    "                else:\n",
    "                    xmax, xmin, ymax, ymin = image['xmax'], image['xmin'], image['ymax'], image['ymin']\n",
    "                label_width = (xmax - xmin) * image_width\n",
    "                label_height = (ymax - ymin) * image_height\n",
    "            else:\n",
    "                label_width = image['label_width']\n",
    "                label_height =image ['label_height']\n",
    "            label_area = label_height * label_width\n",
    "            width_to_height =round(label_width / label_height,3)\n",
    "            label_area_perc = round(label_area / image_area,1)\n",
    "            if 'xmax' in image.keys():\n",
    "                xmax, xmin, ymax, ymin = image['xmax'], image['xmin'], image['ymax'], image['ymin']\n",
    "            else:\n",
    "                xmax = (image['label_horz_center'] + (label_width/2))/image_width\n",
    "                xmin = (image['label_horz_center'] - (label_width / 2))/image_width\n",
    "                ymax = (image['label_vert_center'] + (label_height / 2))/image_height\n",
    "                ymin = (image['label_vert_center']  - (label_height / 2))/image_height\n",
    "            list_of_filenames.append(filename)\n",
    "            list_width_to_height_ratio.append(width_to_height)\n",
    "            label_type = filename.split('-')[0].capitalize() \n",
    "            dictionary = {\n",
    "     \"path\": path_to_image,\n",
    "     \"filename\": filename,\n",
    "     \"image_height\": image_height,\n",
    "     \"image_width\": image_width,\n",
    "     \"label_area_perc\": label_area_perc,\n",
    "     \"labels\": [\n",
    "     {\n",
    "     \"xmin\": round(xmin,1),\n",
    "     \"ymin\": round(ymin,1),\n",
    "     \"xmax\": round(xmax,2),\n",
    "     \"ymax\": round(ymax,2),\n",
    "     \"label\": label_type,\n",
    "     \"width_to_height\": width_to_height\n",
    "     }]}\n",
    "            list_of_dicts.append(dictionary)\n",
    "\n",
    "    output = {'data': list_of_dicts}\n",
    "    output_json = json.dumps(output,indent=4)\n",
    "\n",
    "    with open (out_file,'w') as outfile:\n",
    "        outfile.write(output_json)\n",
    "except RuntimeError:\n",
    "    logger.error(\"Error while compiling metadata\")\n",
    "    raise    \n",
    "logger.info(\"Finished processing metadata file with image data.\")\n",
    "logger.info(\"Ploting width to height ratios\")\n",
    "\n",
    "try:\n",
    "    plt.xticks(rotation =60)\n",
    "    plt.xlabel('Filename')\n",
    "    plt.ylabel('Width to Height Ratio')\n",
    "    plt.style.use('seaborn')\n",
    "    plt.scatter(list_of_filenames,list_width_to_height_ratio)\n",
    "except RuntimeError:\n",
    "    logger.error(\"Error ploting width to height ratios\")\n",
    "    raise\n",
    "\n",
    "logger.info(\"Finished ploting width to height ratios\")\n",
    "\n"
   ]
  },
  {
   "cell_type": "markdown",
   "id": "f85a1bec",
   "metadata": {},
   "source": [
    "# 3.  Processes images"
   ]
  },
  {
   "cell_type": "code",
   "execution_count": 11,
   "id": "a2787f4a",
   "metadata": {},
   "outputs": [],
   "source": [
    "max_width = config['max_width']\n",
    "max_height = config['max_height']\n",
    "overlap = config['overlap']\n",
    "window_overlap_horiz = overlap * max_width\n",
    "window_overlap_vert = overlap * max_height\n",
    "\n",
    "img_data = open (out_file)\n",
    "img_data = json.load(img_data)\n",
    "\n"
   ]
  },
  {
   "cell_type": "markdown",
   "id": "22e633c4",
   "metadata": {},
   "source": [
    "# 3.1 Croping, resizing and Sliding Window"
   ]
  },
  {
   "cell_type": "code",
   "execution_count": 14,
   "id": "33535fd8",
   "metadata": {},
   "outputs": [
    {
     "name": "stdout",
     "output_type": "stream",
     "text": [
      "Finished: Program took: --- 240.32680249214172 seconds ---\n"
     ]
    }
   ],
   "source": [
    "logger.info(\"Croping and resizing images\")\n",
    "try:\n",
    "    for image in img_data['data']:\n",
    "        img_labels = image['labels'][0]\n",
    "        img = cv2.imread(image['path'])\n",
    "        img = img[int(img_labels['ymin']*image['image_height']):int(img_labels['ymax']*image['image_height']),int(img_labels['xmin']*image['image_width']):int(img_labels['xmax']*image['image_width'])]\n",
    "        img = cv2.resize(img,(max_width,max_height))\n",
    "        cv2.imwrite(os.path.join(out_path, image['filename']), img)\n",
    "        #Sliding Window\n",
    "        for y in np.arange(0,int(img_labels['ymax']*image['image_height']),window_overlap_vert):\n",
    "            for x in np.arange(0,int(img_labels['xmax']*image['image_width']),window_overlap_horiz):\n",
    "                img_clone = cv2.imread(os.path.join(out_path, image['filename']))\n",
    "                x_border = x + (max_width/2)\n",
    "                y_border =y + (max_height/2)\n",
    "                cv2.rectangle(img,(int(x),int(y)),(int(x_border),int(y_border)),(0,0,255),5)\n",
    "                cv2.imshow(image['filename'],img)\n",
    "                img = img_clone\n",
    "                cv2.waitKey(50)\n",
    "                if x_border >= max_width:\n",
    "                    break\n",
    "            if y_border >= max_height:\n",
    "                cv2.destroyAllWindows()\n",
    "                break\n",
    "except RuntimeError :\n",
    "    logger.error(\"Error croping and resizing images\")\n",
    "    raise\n",
    "            \n",
    "logger.info(\"Finished Croping and resizing images\")\n",
    "logger.info(f\"Program Done : Took {time.time() - start_time} seconds\")\n",
    "print(\"Finished: Program took: \"\"--- %s seconds ---\" % (time.time() - start_time))\n",
    "    "
   ]
  },
  {
   "cell_type": "code",
   "execution_count": null,
   "id": "f3c23f66",
   "metadata": {},
   "outputs": [],
   "source": []
  }
 ],
 "metadata": {
  "kernelspec": {
   "display_name": "Python 3 (ipykernel)",
   "language": "python",
   "name": "python3"
  },
  "language_info": {
   "codemirror_mode": {
    "name": "ipython",
    "version": 3
   },
   "file_extension": ".py",
   "mimetype": "text/x-python",
   "name": "python",
   "nbconvert_exporter": "python",
   "pygments_lexer": "ipython3",
   "version": "3.8.5"
  }
 },
 "nbformat": 4,
 "nbformat_minor": 5
}
